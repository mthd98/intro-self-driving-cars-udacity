{
 "cells": [
  {
   "cell_type": "markdown",
   "metadata": {},
   "source": [
    "# Iteration and Stopping\n",
    "Consider the same road as in the last demonstration. Now that we know how to read information from an array that represents the road, we want to act on this information! It will be up to you to tell the car to stop if it's right in front of the stop sign.\n",
    "\n",
    "\n",
    "\n"
   ]
  },
  {
   "cell_type": "markdown",
   "metadata": {},
   "source": [
    "# The road"
   ]
  },
  {
   "cell_type": "code",
   "execution_count": 2,
   "metadata": {},
   "outputs": [],
   "source": [
    "\n",
    "import numpy as np\n",
    "\n",
    "# The 1x7 road\n",
    "road = np.array(['r', 'r', 'r', 'r', 'r', 's', 'r'])"
   ]
  },
  {
   "cell_type": "markdown",
   "metadata": {},
   "source": [
    "# TODO: Complete  find_stop_index\n",
    "Complete this function so that it returns the index of the cell that is right before the stop sign (ex. 0, if the stop sign is at index 1)!"
   ]
  },
  {
   "cell_type": "code",
   "execution_count": 17,
   "metadata": {},
   "outputs": [
    {
     "name": "stdout",
     "output_type": "stream",
     "text": [
      "stop at road[5]\n"
     ]
    }
   ],
   "source": [
    "# This function takes in the road and determines where to stop\n",
    "def find_stop_index(road):\n",
    "    \n",
    "    ## TODO: Iterate through the road array\n",
    "    ## TODO: Check if a stop sign ('s') is found in the array\n",
    "    ## If one is, break out of your iteration\n",
    "    ## and return the value of the index that is *right before* the stop sign\n",
    "    ## Change the stop_index value\n",
    "    for i in range (0,road.shape[0]):\n",
    "        \n",
    "        if road[i] =='s':\n",
    "            stop='stop at road['+str(i)+']'\n",
    "            break\n",
    "    return stop\n",
    "print(find_stop_index(road))"
   ]
  },
  {
   "cell_type": "code",
   "execution_count": null,
   "metadata": {},
   "outputs": [],
   "source": []
  }
 ],
 "metadata": {
  "kernelspec": {
   "display_name": "Python 3",
   "language": "python",
   "name": "python3"
  },
  "language_info": {
   "codemirror_mode": {
    "name": "ipython",
    "version": 3
   },
   "file_extension": ".py",
   "mimetype": "text/x-python",
   "name": "python",
   "nbconvert_exporter": "python",
   "pygments_lexer": "ipython3",
   "version": "3.6.8"
  }
 },
 "nbformat": 4,
 "nbformat_minor": 2
}
