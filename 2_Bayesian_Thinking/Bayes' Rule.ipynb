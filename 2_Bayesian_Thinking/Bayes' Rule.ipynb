{
 "cells": [
  {
   "cell_type": "markdown",
   "metadata": {},
   "source": [
    "Bayes' Rule\n",
    "You know that Bayes' rule can be described as a way to improve a prior belief by incorporating observed data, related to this belief (like test data or sensor measurements). The rule is written as:\n",
    "\n",
    "$$P(A|B) = \\frac{P(B|A)\\cdot P(A)} {P(B)}$$\n",
    "Where A is the event and B is some observed, related data.\n",
    "\n",
    "In this next quiz, given only three probabilities: p_A, p_B_given_A, and p_notB_given_notA, which can be written in notation as:\n",
    "\n",
    "$$P(A), P(B|A)$$\n",
    "$$P(\\neg B|\\neg A)$$\n",
    "\n",
    "You will be asked to write a function to calculate the posterior probability $$P(A|B)$$\n",
    "\n",
    "Note: This is a challenging question, so be sure to test your code or even use a pen and paper to work through this exercise!\n",
    "\n",
    "TODO: Complete bayes\n",
    "Complete this function so that it returns the posterior probability for any set of inputs.\n",
    "\n"
   ]
  },
  {
   "cell_type": "code",
   "execution_count": 19,
   "metadata": {},
   "outputs": [
    {
     "name": "stdout",
     "output_type": "stream",
     "text": [
      "0.726643598615917\n"
     ]
    }
   ],
   "source": [
    "# Given three input probabilities, complete this function\n",
    "# so that it returns the posterior probability\n",
    "\n",
    "\n",
    "def bayes_rule(p_a,p_b_given_a,p_not_give_nota):\n",
    "    p_a=p_a*p_b_given_a\n",
    "    p_b=(1-p_a)*(1-p_not_give_nota)\n",
    "    norm=p_a+p_b\n",
    "    posterior=p_a/norm\n",
    "    return posterior\n",
    "p_a=0.3\n",
    "p_b_given_a=0.7\n",
    "p_not_give_nota=0.9\n",
    "\n",
    "poster=bayes_rule(p_a,p_b_given_a,p_not_give_nota)\n",
    "print(poster)"
   ]
  },
  {
   "cell_type": "code",
   "execution_count": null,
   "metadata": {},
   "outputs": [],
   "source": []
  }
 ],
 "metadata": {
  "kernelspec": {
   "display_name": "Python 3",
   "language": "python",
   "name": "python3"
  },
  "language_info": {
   "codemirror_mode": {
    "name": "ipython",
    "version": 3
   },
   "file_extension": ".py",
   "mimetype": "text/x-python",
   "name": "python",
   "nbconvert_exporter": "python",
   "pygments_lexer": "ipython3",
   "version": "3.6.8"
  }
 },
 "nbformat": 4,
 "nbformat_minor": 2
}
