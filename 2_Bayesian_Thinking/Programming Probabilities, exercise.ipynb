{
 "cells": [
  {
   "cell_type": "markdown",
   "metadata": {},
   "source": [
    "Calculating Probabilities\n",
    "In this lesson, you learned a lot about Bayes' rule and got more practice calculating the probability that an event will happen while working through examples. In the following quizzes, you'll be asked to write some simple functions that can help you calculate prior, joint, and total probabilities, given limited information. These will be useful calculations to understand and implement in code.\n",
    "\n",
    "Once you write your code, it's good practice to test your code and work through any small errors that may occur, so I encourage you to run your code with some test probability values to see if your code is working the way you expect. The last cell in this notebook will also provide feedback on your output!\n",
    "\n",
    "The following code quizzes assume that you are familiar with the notation:\n",
    "\n",
    "The probability of an event A happening: $$P(A)$$\n",
    "\n",
    "The probability of another event or test B happening, given the occurrence of event A: $$P(B|A)$$\n",
    "\n",
    "The probability of another event or test B happening, given that event A has not occurred: $$P(B|\\neg A)$$\n",
    "\n",
    "TODO: Complete the complement function\n",
    "Complete the function so that it returns the complement of P(A), which is the probability that the event did not happen."
   ]
  },
  {
   "cell_type": "code",
   "execution_count": 1,
   "metadata": {},
   "outputs": [
    {
     "name": "stdout",
     "output_type": "stream",
     "text": [
      "0.63\n"
     ]
    }
   ],
   "source": [
    "# The complement function takes in the probability of an event, P(A).\n",
    "def complement(p_A):\n",
    "    \n",
    "    ## TODO: Change the value of complement\n",
    "    ## So that it calculates the complement of any variable p_A\n",
    "    comp=1-p_A\n",
    "    return comp\n",
    "## TODO: Change this test value and test out your code!\n",
    "p_test=0.37\n",
    "complement_test=complement(p_test)\n",
    "print(complement_test)"
   ]
  },
  {
   "cell_type": "markdown",
   "metadata": {},
   "source": [
    "Testing Cell\n",
    "Run this cell and it will compare the output of your function with the correct, expected output.\n",
    "\n",
    "Assertions\n",
    "\n",
    "This cell is using something called assertions in Python, which are statements that check the validity of code. In this case, the assertion checks that the output of your function: comp, is equal to the expected output: correct_comp and then prints out feedback!\n",
    "\n",
    "Your code should pass both tests and work for any value of p_A."
   ]
  },
  {
   "cell_type": "code",
   "execution_count": 2,
   "metadata": {},
   "outputs": [
    {
     "ename": "ModuleNotFoundError",
     "evalue": "No module named 'solution'",
     "output_type": "error",
     "traceback": [
      "\u001b[0;31m---------------------------------------------------------------------------\u001b[0m",
      "\u001b[0;31mModuleNotFoundError\u001b[0m                       Traceback (most recent call last)",
      "\u001b[0;32m<ipython-input-2-94a0cf5e348c>\u001b[0m in \u001b[0;36m<module>\u001b[0;34m\u001b[0m\n\u001b[1;32m      1\u001b[0m \u001b[0;31m# Test code - do not change\u001b[0m\u001b[0;34m\u001b[0m\u001b[0;34m\u001b[0m\u001b[0;34m\u001b[0m\u001b[0m\n\u001b[0;32m----> 2\u001b[0;31m \u001b[0;32mimport\u001b[0m \u001b[0msolution\u001b[0m\u001b[0;34m\u001b[0m\u001b[0;34m\u001b[0m\u001b[0m\n\u001b[0m\u001b[1;32m      3\u001b[0m \u001b[0;34m\u001b[0m\u001b[0m\n\u001b[1;32m      4\u001b[0m \u001b[0mtest_value\u001b[0m \u001b[0;34m=\u001b[0m \u001b[0;36m0.4265\u001b[0m\u001b[0;34m\u001b[0m\u001b[0;34m\u001b[0m\u001b[0m\n\u001b[1;32m      5\u001b[0m \u001b[0;34m\u001b[0m\u001b[0m\n",
      "\u001b[0;31mModuleNotFoundError\u001b[0m: No module named 'solution'"
     ]
    }
   ],
   "source": [
    "# Test code - do not change\n",
    "import solution\n",
    "\n",
    "test_value = 0.4265\n",
    "\n",
    "# This line calls your function and stores the output\n",
    "comp = complement(test_value)\n",
    "correct_comp = solution.complement(test_value)\n",
    "\n",
    "# Assertion, comparison test\n",
    "try:\n",
    "    assert(abs(comp - correct_comp) < 0.0001)\n",
    "    print('That\\'s right!')\n",
    "except:\n",
    "    print ('Your code returned that the complement is: ' +str(comp) \n",
    "           + ', which does not match the correct value: ' +str(correct_comp))\n",
    "\n",
    "\n",
    "# Test 2\n",
    "comp2 = complement(solution.test_value)\n",
    "correct_comp2 = solution.complement(solution.test_value)\n",
    "\n",
    "# Assertion, comparison test\n",
    "try:\n",
    "    assert(abs(comp2 - correct_comp2) < 0.0001)\n",
    "    print('That\\'s right!')\n",
    "except:\n",
    "    print ('For test 2, your code returned that the complement is: ' +str(comp2) \n",
    "           + ', which does not match the correct value.')"
   ]
  },
  {
   "cell_type": "markdown",
   "metadata": {},
   "source": [
    "Calculating Joint Probabilities\n",
    "TODO: Comple joint"
   ]
  },
  {
   "cell_type": "code",
   "execution_count": 3,
   "metadata": {},
   "outputs": [
    {
     "name": "stdout",
     "output_type": "stream",
     "text": [
      "0.08000000000000002\n"
     ]
    }
   ],
   "source": [
    "#complete this joint function \n",
    "def joint(p_a,p_b):\n",
    "    joint=p_a*p_b\n",
    "    return joint\n",
    "p_a=0.2\n",
    "p_b=0.4\n",
    "j=joint(p_a,p_b)\n",
    "print(j)"
   ]
  },
  {
   "cell_type": "code",
   "execution_count": null,
   "metadata": {},
   "outputs": [],
   "source": []
  }
 ],
 "metadata": {
  "kernelspec": {
   "display_name": "Python 3",
   "language": "python",
   "name": "python3"
  },
  "language_info": {
   "codemirror_mode": {
    "name": "ipython",
    "version": 3
   },
   "file_extension": ".py",
   "mimetype": "text/x-python",
   "name": "python",
   "nbconvert_exporter": "python",
   "pygments_lexer": "ipython3",
   "version": "3.6.8"
  }
 },
 "nbformat": 4,
 "nbformat_minor": 2
}
