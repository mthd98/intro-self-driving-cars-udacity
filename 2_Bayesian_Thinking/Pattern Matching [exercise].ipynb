{
 "cells": [
  {
   "cell_type": "markdown",
   "metadata": {},
   "source": [
    "# Pattern Matching\n",
    "Now that you know how to iterate through a 2D array, your next task will be to use what you've learned to help locate a robot in a 2D world based on some sensor measurements.\n",
    "\n",
    "In this example, a robot is navigating a 4x5 orange and blue world, shown below. This robot also has a sensor that tells it the color of the square it's on topof and the color of the square directly to its right.\n",
    "\n",
    "2D orange and blue world grid\n",
    "2D orange and blue world grid\n",
    "\n",
    " Robot sensing two color squares (one it's on top of, and one to its right)\n",
    "Robot sensing two color squares (one it's on top of, and one to its right)"
   ]
  },
  {
   "cell_type": "code",
   "execution_count": 11,
   "metadata": {},
   "outputs": [
    {
     "name": "stdout",
     "output_type": "stream",
     "text": [
      "[[0, 1], [1, 2], [2, 0], [2, 3], [3, 0]]\n"
     ]
    }
   ],
   "source": [
    "import numpy as np\n",
    "\n",
    "# A 4x5 robot world of characters 'o' and 'b'\n",
    "world = np.array([ ['o', 'b', 'o', 'o', 'b'],\n",
    "                   ['o', 'o', 'b', 'o', 'o'],\n",
    "                   ['b', 'o', 'o', 'b', 'o'],\n",
    "                   ['b', 'o', 'o', 'o', 'o'] ])\n",
    "\n",
    "# Sensor measurement\n",
    "measurement = ['b', 'o']\n",
    "\n",
    "# This function takes in the world and the sensor measurement.\n",
    "# Complete this function so that it returns the indices of the \n",
    "# likely robot locations, based on matching the measurement \n",
    "# with the color patterns in the world\n",
    "\n",
    "def find_match(world, measurement):\n",
    "    \n",
    "    # Empty possible_locations list\n",
    "    possible_locations = []\n",
    "    \n",
    "    # Store the number of columns and rows in the 2D array\n",
    "    col=world.shape[1]\n",
    "    row=world.shape[0]\n",
    "    for i in range (0,row):\n",
    "        for j in range (0,col):\n",
    "          \n",
    "    # Iterate through the entire array\n",
    "   \n",
    "            # Check that we are within the bounds of the world,\n",
    "            # since we have to check two values, this means we're at\n",
    "            # a row index < the number of columns (5) - 1\n",
    "            # In other words j < 4\n",
    "            if j<col-1:\n",
    "            \n",
    "                # Check if a match is found by comparing array contents\n",
    "                # and checking for equality at world[i][j] and \n",
    "                # one row to the right at world[i][j+1]\n",
    "                under = world[i][j]\n",
    "                in_front = world[i][j+1]\n",
    "                if (measurement[0]==under and measurement[1]==in_front):\n",
    "                # Values under and in front of the robot \n",
    "                    possible_locations.append([i,j])\n",
    "                    # A match is found!\n",
    "                    # Append the index that the robot is on\n",
    "        \n",
    "    # Return the completed list\n",
    "    return possible_locations\n",
    "   \n",
    "\n",
    "# This line runs the function and stores the output - do not delete \n",
    "locations = find_match(world, measurement)\n",
    "print(locations)"
   ]
  },
  {
   "cell_type": "code",
   "execution_count": null,
   "metadata": {},
   "outputs": [],
   "source": []
  },
  {
   "cell_type": "code",
   "execution_count": null,
   "metadata": {},
   "outputs": [],
   "source": []
  }
 ],
 "metadata": {
  "kernelspec": {
   "display_name": "Python 3",
   "language": "python",
   "name": "python3"
  },
  "language_info": {
   "codemirror_mode": {
    "name": "ipython",
    "version": 3
   },
   "file_extension": ".py",
   "mimetype": "text/x-python",
   "name": "python",
   "nbconvert_exporter": "python",
   "pygments_lexer": "ipython3",
   "version": "3.6.8"
  }
 },
 "nbformat": 4,
 "nbformat_minor": 2
}
