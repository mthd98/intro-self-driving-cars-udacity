{
 "cells": [
  {
   "cell_type": "markdown",
   "metadata": {},
   "source": [
    "2D Iteration\n",
    "In this demonstration, you'll see how to iterate through a 2D array used nested loops, and we'll be using our iterative skills to locate trees in this world!\n",
    "\n",
    "Create the world\n"
   ]
  },
  {
   "cell_type": "code",
   "execution_count": 1,
   "metadata": {},
   "outputs": [],
   "source": [
    "import numpy as np\n"
   ]
  },
  {
   "cell_type": "code",
   "execution_count": 3,
   "metadata": {},
   "outputs": [
    {
     "name": "stdout",
     "output_type": "stream",
     "text": [
      "[[0 0 0 1 0]\n",
      " [0 0 0 1 0]\n",
      " [0 1 1 0 0]\n",
      " [0 0 0 0 1]\n",
      " [1 0 0 1 0]\n",
      " [1 0 0 0 0]]\n",
      "\n",
      "The shape of this array is: (6, 5)\n"
     ]
    }
   ],
   "source": [
    "world = np.array([ [0, 0, 0, 1, 0],\n",
    "                   [0, 0, 0, 1, 0],\n",
    "                   [0, 1, 1, 0, 0],\n",
    "                   [0, 0, 0, 0, 1],\n",
    "                   [1, 0, 0, 1, 0],\n",
    "                   [1, 0, 0, 0, 0] ])\n",
    "print(world)\n",
    "print('\\nThe shape of this array is: ' + str(world.shape))\n"
   ]
  },
  {
   "cell_type": "code",
   "execution_count": 4,
   "metadata": {},
   "outputs": [
    {
     "name": "stdout",
     "output_type": "stream",
     "text": [
      "\n",
      "\n",
      "Index [0][0] = 0\n",
      "Index [0][1] = 0\n",
      "Index [0][2] = 0\n",
      "Index [0][3] = 1\n",
      "Index [0][4] = 0\n",
      "Index [1][0] = 0\n",
      "Index [1][1] = 0\n",
      "Index [1][2] = 0\n",
      "Index [1][3] = 1\n",
      "Index [1][4] = 0\n",
      "Index [2][0] = 0\n",
      "Index [2][1] = 1\n",
      "Index [2][2] = 1\n",
      "Index [2][3] = 0\n",
      "Index [2][4] = 0\n",
      "Index [3][0] = 0\n",
      "Index [3][1] = 0\n",
      "Index [3][2] = 0\n",
      "Index [3][3] = 0\n",
      "Index [3][4] = 1\n",
      "Index [4][0] = 1\n",
      "Index [4][1] = 0\n",
      "Index [4][2] = 0\n",
      "Index [4][3] = 1\n",
      "Index [4][4] = 0\n",
      "Index [5][0] = 1\n",
      "Index [5][1] = 0\n",
      "Index [5][2] = 0\n",
      "Index [5][3] = 0\n",
      "Index [5][4] = 0\n"
     ]
    }
   ],
   "source": [
    "def iterate2D(arr):\n",
    "    for i in range(0,arr.shape[0]):\n",
    "        for j in range(0,arr.shape[1]):\n",
    "            print('Index ['+str(i)+']['+str(j)+'] = ' +str(world[i][j]))\n",
    "print('\\n')\n",
    "iterate2D(world)"
   ]
  },
  {
   "cell_type": "code",
   "execution_count": 5,
   "metadata": {},
   "outputs": [
    {
     "name": "stdout",
     "output_type": "stream",
     "text": [
      "\n",
      "\n",
      "First tree found at location: [0][3]\n"
     ]
    }
   ],
   "source": [
    "#Find the first tree, 1, in the world¶\n",
    "# This function is similar to our iterate2D function,\n",
    "# But looks for the first tree in the array and prints its location [x][y]\n",
    "def first_tree(arr):\n",
    "    for i in range(0,arr.shape[0]):\n",
    "        for j in range(0,arr.shape[1]):\n",
    "            if (arr[i][j]==1):\n",
    "                print('First tree found at location: ['+str(i)+']['+str(j)+']')\n",
    "                return \n",
    "print('\\n')\n",
    "first_tree(world)"
   ]
  },
  {
   "cell_type": "code",
   "execution_count": null,
   "metadata": {},
   "outputs": [],
   "source": []
  }
 ],
 "metadata": {
  "kernelspec": {
   "display_name": "Python 3",
   "language": "python",
   "name": "python3"
  },
  "language_info": {
   "codemirror_mode": {
    "name": "ipython",
    "version": 3
   },
   "file_extension": ".py",
   "mimetype": "text/x-python",
   "name": "python",
   "nbconvert_exporter": "python",
   "pygments_lexer": "ipython3",
   "version": "3.6.8"
  }
 },
 "nbformat": 4,
 "nbformat_minor": 2
}
